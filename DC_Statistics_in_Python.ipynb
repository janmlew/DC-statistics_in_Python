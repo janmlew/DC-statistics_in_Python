{
  "nbformat": 4,
  "nbformat_minor": 0,
  "metadata": {
    "colab": {
      "provenance": []
    },
    "kernelspec": {
      "name": "python3",
      "display_name": "Python 3"
    },
    "language_info": {
      "name": "python"
    }
  },
  "cells": [
    {
      "cell_type": "markdown",
      "source": [
        "Imports."
      ],
      "metadata": {
        "id": "F3O1II12z8wZ"
      }
    },
    {
      "cell_type": "code",
      "source": [
        "# from google.colab import drive\n",
        "import pandas as pd\n",
        "import numpy as np\n",
        "import matplotlib.pyplot as plt\n",
        "from scipy.stats import iqr, uniform, binom, norm, poisson, expon # Some later exercises (eg. 12th) need this.\n",
        "import seaborn as sns"
      ],
      "metadata": {
        "id": "6D-0OsCu19mZ"
      },
      "execution_count": null,
      "outputs": []
    },
    {
      "cell_type": "markdown",
      "source": [
        "Dataloads."
      ],
      "metadata": {
        "id": "oU6bEeIa11iQ"
      }
    },
    {
      "cell_type": "code",
      "source": [
        "# global variables\n",
        "PATH='/content/drive/MyDrive/Colab Notebooks/Project/datasets/'\n",
        "\n",
        "# Google Drive mount\n",
        "# drive.mount('/content/drive', force_remount=True)\n",
        "\n",
        "# Loads\n",
        "food_consumption = pd.read_csv(PATH+'food_consumption.csv')\n",
        "amir_deals = pd.read_csv(PATH+'amir_deals.csv')\n",
        "world_happiness = pd.read_csv(PATH+'world_happiness.csv')"
      ],
      "metadata": {
        "id": "lVi5X4Ov16Cz"
      },
      "execution_count": null,
      "outputs": []
    },
    {
      "cell_type": "markdown",
      "source": [
        "First exercise.\n",
        "\n",
        "In this I calculate mean and median values for consumption in both Belgium and USA."
      ],
      "metadata": {
        "id": "8V7NTDGm1Gwm"
      }
    },
    {
      "cell_type": "code",
      "execution_count": null,
      "metadata": {
        "colab": {
          "base_uri": "https://localhost:8080/"
        },
        "id": "xIaewz4QztQf",
        "outputId": "5cf0d61f-bace-4204-eaf2-abe067de679d"
      },
      "outputs": [
        {
          "output_type": "stream",
          "name": "stdout",
          "text": [
            "42.13272727272727\n",
            "12.59\n",
            "44.650000000000006\n",
            "14.58\n"
          ]
        }
      ],
      "source": [
        "# Filter for Belgium\n",
        "be_consumption = food_consumption[food_consumption['country']=='Belgium']\n",
        "\n",
        "# Filter for USA\n",
        "usa_consumption = food_consumption[food_consumption['country']=='USA']\n",
        "\n",
        "# Calculate mean and median consumption in Belgium\n",
        "print(np.mean(be_consumption['consumption']))\n",
        "print(np.median(be_consumption['consumption']))\n",
        "\n",
        "# Calculate mean and median consumption in USA\n",
        "print(np.mean(usa_consumption['consumption']))\n",
        "print(np.median(usa_consumption['consumption']))"
      ]
    },
    {
      "cell_type": "markdown",
      "source": [
        "Second exercise.\n",
        "\n",
        "Visualisation time!"
      ],
      "metadata": {
        "id": "x87iqXAU4b9t"
      }
    },
    {
      "cell_type": "code",
      "source": [
        "# Subset for food_category equals rice\n",
        "rice_consumption = food_consumption[food_consumption['food_category']=='rice']\n",
        "\n",
        "# Histogram of co2_emission for rice and show plot\n",
        "rice_consumption['co2_emission'].hist()\n",
        "plt.show()"
      ],
      "metadata": {
        "colab": {
          "base_uri": "https://localhost:8080/",
          "height": 267
        },
        "id": "3fBJtjTZA6Ss",
        "outputId": "edccc408-65aa-45bc-b51e-6defa61cb0e3"
      },
      "execution_count": null,
      "outputs": [
        {
          "output_type": "display_data",
          "data": {
            "text/plain": [
              "<Figure size 432x288 with 1 Axes>"
            ],
            "image/png": "[encoded data removed]"
          },
          "metadata": {
            "needs_background": "light"
          }
        }
      ]
    },
    {
      "cell_type": "markdown",
      "source": [
        "Third exercise.\n",
        "\n",
        "Let's get acquainted with numpy's linspace!"
      ],
      "metadata": {
        "id": "5cfXcdrCA_6Z"
      }
    },
    {
      "cell_type": "code",
      "source": [
        "# Calculate the quartiles of co2_emission\n",
        "print(np.quantile(food_consumption['co2_emission'], np.linspace(0, 1, 5)))\n",
        "\n",
        "# Calculate the quintiles of co2_emission\n",
        "print(np.quantile(food_consumption['co2_emission'], np.linspace(0, 1, 6)))\n",
        "\n",
        "# Calculate the deciles of co2_emission\n",
        "print(np.quantile(food_consumption['co2_emission'], np.linspace(0, 1, 11)))"
      ],
      "metadata": {
        "colab": {
          "base_uri": "https://localhost:8080/"
        },
        "id": "vsKVW5ZLBE1K",
        "outputId": "3dbfe380-20f4-428a-e9c2-334a5ef4075b"
      },
      "execution_count": null,
      "outputs": [
        {
          "output_type": "stream",
          "name": "stdout",
          "text": [
            "[   0.        5.21     16.53     62.5975 1712.    ]\n",
            "[   0.       3.54    11.026   25.59    99.978 1712.   ]\n",
            "[0.00000e+00 6.68000e-01 3.54000e+00 7.04000e+00 1.10260e+01 1.65300e+01\n",
            " 2.55900e+01 4.42710e+01 9.99780e+01 2.03629e+02 1.71200e+03]\n"
          ]
        }
      ]
    },
    {
      "cell_type": "markdown",
      "source": [
        "Fourth exercise.\n",
        "\n",
        "Std and var, as well as some histograms."
      ],
      "metadata": {
        "id": "UQ3AOmCpB3JR"
      }
    },
    {
      "cell_type": "code",
      "source": [
        "# Print variance and sd of co2_emission for each food_category\n",
        "print(food_consumption.groupby('food_category')['co2_emission'].agg(['var', 'std']))\n",
        "\n",
        "# Create histogram of co2_emission for food_category 'beef'\n",
        "food_consumption[food_consumption['food_category']=='beef']['co2_emission'].hist()\n",
        "# Show plot\n",
        "plt.show()\n",
        "\n",
        "# Create histogram of co2_emission for food_category 'eggs'\n",
        "food_consumption[food_consumption['food_category']=='eggs' ]['co2_emission'].hist()\n",
        "# Show plot\n",
        "plt.show()"
      ],
      "metadata": {
        "colab": {
          "base_uri": "https://localhost:8080/",
          "height": 739
        },
        "id": "ZR2iXJ9gB-y0",
        "outputId": "e44fbc9b-6b9f-4373-b825-582f16a78a5b"
      },
      "execution_count": null,
      "outputs": [
        {
          "output_type": "stream",
          "name": "stdout",
          "text": [
            "                        var         std\n",
            "food_category                          \n",
            "beef           88748.408132  297.906710\n",
            "dairy          17671.891985  132.935669\n",
            "eggs              21.371819    4.622966\n",
            "fish             921.637349   30.358481\n",
            "lamb_goat      16475.518363  128.356996\n",
            "nuts              35.639652    5.969895\n",
            "pork            3094.963537   55.632396\n",
            "poultry          245.026801   15.653332\n",
            "rice            2281.376243   47.763754\n",
            "soybeans           0.879882    0.938020\n",
            "wheat             71.023937    8.427570\n"
          ]
        },
        {
          "output_type": "display_data",
          "data": {
            "text/plain": [
              "<Figure size 432x288 with 1 Axes>"
            ],
            "image/png": "[encoded data removed]"
          },
          "metadata": {
            "needs_background": "light"
          }
        },
        {
          "output_type": "display_data",
          "data": {
            "text/plain": [
              "<Figure size 432x288 with 1 Axes>"
            ],
            "image/png": "[encoded data removed]"
          },
          "metadata": {
            "needs_background": "light"
          }
        }
      ]
    },
    {
      "cell_type": "markdown",
      "source": [
        "Fifth exercise.\n",
        "\n",
        "Finding outliers using IQR (below Q1-IQR and above Q3+IQR)."
      ],
      "metadata": {
        "id": "oEKzbn8QKd1D"
      }
    },
    {
      "cell_type": "code",
      "source": [
        "# Calculate total co2_emission per country: emissions_by_country\n",
        "emissions_by_country = food_consumption.groupby('country')['co2_emission'].sum()\n",
        "#print(emissions_by_country)\n",
        "\n",
        "# Compute the first and third quartiles and IQR of emissions_by_country\n",
        "q1 = np.quantile(emissions_by_country, 0.25)\n",
        "q3 = np.quantile(emissions_by_country, 0.75)\n",
        "iqr1 = q3-q1\n",
        "#OR\n",
        "iqr2 = iqr(emissions_by_country)\n",
        "\n",
        "# Calculate the lower and upper cutoffs for outliers\n",
        "lower = q1 - 1.5 * iqr2\n",
        "upper = q3 + 1.5 * iqr2\n",
        "\n",
        "# Subset emissions_by_country to find outliers\n",
        "outliers = emissions_by_country[(emissions_by_country<lower) | (emissions_by_country>upper)]\n",
        "print(outliers)"
      ],
      "metadata": {
        "colab": {
          "base_uri": "https://localhost:8080/"
        },
        "id": "RjvAOCJ-KwkD",
        "outputId": "991dbaad-96a0-4d2a-c558-fd1cee6d4a62"
      },
      "execution_count": null,
      "outputs": [
        {
          "output_type": "stream",
          "name": "stdout",
          "text": [
            "country\n",
            "Argentina    2172.4\n",
            "Name: co2_emission, dtype: float64\n"
          ]
        }
      ]
    },
    {
      "cell_type": "markdown",
      "source": [
        "Sixth exercise.\n",
        "\n",
        "Calculating probabilities: performance review of certain Amir of a certain sales team."
      ],
      "metadata": {
        "id": "BF-PyVnaUInD"
      }
    },
    {
      "cell_type": "code",
      "source": [
        "# Count the deals for each product\n",
        "#counts = amir_deals.groupby('product').size().reset_index(name='counts')\n",
        "counts = amir_deals['product'].value_counts()\n",
        "#print(counts)\n",
        "\n",
        "# Calculate probability of picking a deal with each product\n",
        "probs = counts/counts.sum()\n",
        "print(probs)"
      ],
      "metadata": {
        "colab": {
          "base_uri": "https://localhost:8080/"
        },
        "id": "n0Csnbq9_lB4",
        "outputId": "2a2397df-c98f-4e57-b5ee-f9dcc051c4a6"
      },
      "execution_count": null,
      "outputs": [
        {
          "output_type": "stream",
          "name": "stdout",
          "text": [
            "Product B    0.348315\n",
            "Product D    0.224719\n",
            "Product A    0.129213\n",
            "Product C    0.084270\n",
            "Product F    0.061798\n",
            "Product H    0.044944\n",
            "Product I    0.039326\n",
            "Product E    0.028090\n",
            "Product N    0.016854\n",
            "Product G    0.011236\n",
            "Product J    0.011236\n",
            "Name: product, dtype: float64\n"
          ]
        }
      ]
    },
    {
      "cell_type": "markdown",
      "source": [
        "Seventh exercise.\n",
        "\n",
        "Sampling Amir's deals."
      ],
      "metadata": {
        "id": "UYC3aqoCN6wD"
      }
    },
    {
      "cell_type": "code",
      "source": [
        "# Set random seed\n",
        "np.random.seed(24)\n",
        "\n",
        "# Sample 5 deals without replacement\n",
        "sample_without_replacement = amir_deals.sample(5, replace=False)\n",
        "print(sample_without_replacement)\n",
        "\n",
        "# Sample 5 deals with replacement\n",
        "sample_with_replacement = amir_deals.sample(5, replace=True)\n",
        "print(sample_with_replacement)"
      ],
      "metadata": {
        "colab": {
          "base_uri": "https://localhost:8080/"
        },
        "id": "RgJY24K_OYu3",
        "outputId": "689df6f6-73d0-4a6b-bab1-8a6e7588ae26"
      },
      "execution_count": null,
      "outputs": [
        {
          "output_type": "stream",
          "name": "stdout",
          "text": [
            "     Unnamed: 0    product   client status   amount  num_users\n",
            "127         128  Product B  Current    Won  2070.25          7\n",
            "148         149  Product D  Current    Won  3485.48         52\n",
            "77           78  Product B  Current    Won  6252.30         27\n",
            "104         105  Product D  Current    Won  4110.98         39\n",
            "166         167  Product C      New   Lost  3779.86         11\n",
            "     Unnamed: 0    product   client status   amount  num_users\n",
            "133         134  Product D  Current    Won  5992.86         98\n",
            "101         102  Product H  Current    Won  5116.34         63\n",
            "110         111  Product B  Current    Won   696.88         44\n",
            "49           50  Product B  Current    Won  3488.36         79\n",
            "56           57  Product D  Current    Won  6820.84         42\n"
          ]
        }
      ]
    },
    {
      "cell_type": "markdown",
      "source": [
        "Ninth exercise.\n",
        "\n",
        "Creating a probability distribution"
      ],
      "metadata": {
        "id": "1nZvWR_KO4oz"
      }
    },
    {
      "cell_type": "code",
      "source": [
        "# Defining a locally needed variable\n",
        "restaurant_groups = pd.DataFrame({'group_id':\t['A', 'B', 'C', 'D', 'E', 'F', 'G', 'H', 'I', 'J'], 'group_size':\t[2, 4, 6, 2, 2, 2, 3, 2, 4, 2]})\n",
        "\n",
        "# Create a histogram of restaurant_groups and show plot\n",
        "restaurant_groups['group_size'].hist(bins=[2, 3, 4, 5, 6])\n",
        "plt.show()\n",
        "\n",
        "print(restaurant_groups['group_size'].value_counts())\n",
        "\n",
        "# Create probability distribution\n",
        "size_dist = restaurant_groups['group_size'].value_counts() / restaurant_groups['group_size'].count()\n",
        "#size_dist = restaurant_groups['group_size'].value_counts() / restaurant_groups.shape[0]\n",
        "\n",
        "# Reset index and rename columns\n",
        "size_dist = pd.DataFrame(data=size_dist).reset_index()\n",
        "size_dist.columns = ['group_size', 'prob']\n",
        "\n",
        "# Calculate expected value\n",
        "expected_value = (size_dist['group_size'] * size_dist['prob']).sum()\n",
        "#expected_value = np.sum(size_dist['group_size'] * size_dist['prob'])\n",
        "print(expected_value)\n",
        "\n",
        "# Subset groups of size 4 or more\n",
        "groups_4_or_more = size_dist[size_dist['group_size']>=4]\n",
        "\n",
        "# Sum the probabilities of groups_4_or_more\n",
        "prob_4_or_more = groups_4_or_more['prob'].sum()\n",
        "print(prob_4_or_more)"
      ],
      "metadata": {
        "colab": {
          "base_uri": "https://localhost:8080/",
          "height": 387
        },
        "id": "X463oLc9TeBm",
        "outputId": "e2a2e4e8-c4dd-4ef4-c1ff-2ed61cec01e8"
      },
      "execution_count": null,
      "outputs": [
        {
          "output_type": "display_data",
          "data": {
            "text/plain": [
              "<Figure size 432x288 with 1 Axes>"
            ],
            "image/png": "[encoded data removed]"
          },
          "metadata": {
            "needs_background": "light"
          }
        },
        {
          "output_type": "stream",
          "name": "stdout",
          "text": [
            "2    6\n",
            "4    2\n",
            "6    1\n",
            "3    1\n",
            "Name: group_size, dtype: int64\n",
            "2.9000000000000004\n",
            "0.30000000000000004\n"
          ]
        }
      ]
    },
    {
      "cell_type": "markdown",
      "source": [
        "Tenth exercise.\n",
        "\n",
        "An exercise in continuous uniform distribution. We will be calculating the expected waiting time assuming an occurence happens every 30 minutes."
      ],
      "metadata": {
        "id": "HQWxEMyclcAC"
      }
    },
    {
      "cell_type": "code",
      "source": [
        "# Min and max wait times for back-up that happens every 30 min\n",
        "min_time = 0\n",
        "max_time = 30\n",
        "\n",
        "# Calculate probability of waiting less than 5 mins\n",
        "prob_less_than_5 = uniform.cdf(5, min_time, max_time)\n",
        "print(prob_less_than_5)\n",
        "\n",
        "# Calculate probability of waiting more than 5 mins\n",
        "prob_greater_than_5 = 1 - uniform.cdf(5, min_time, max_time)\n",
        "print(prob_greater_than_5)\n",
        "\n",
        "# Calculate probability of waiting 10-20 mins\n",
        "prob_between_10_and_20 = uniform.cdf(20, min_time, max_time) - uniform.cdf(10, min_time, max_time)\n",
        "print(prob_between_10_and_20)"
      ],
      "metadata": {
        "colab": {
          "base_uri": "https://localhost:8080/"
        },
        "id": "DClTVAQlncha",
        "outputId": "a95447f1-d6f7-4c57-c40a-ddac21e21980"
      },
      "execution_count": null,
      "outputs": [
        {
          "output_type": "stream",
          "name": "stdout",
          "text": [
            "0.16666666666666666\n",
            "0.8333333333333334\n",
            "0.3333333333333333\n"
          ]
        }
      ]
    },
    {
      "cell_type": "markdown",
      "source": [
        "Eleventh exercise.\n",
        "\n",
        "Simulations in continuous uniform distribution."
      ],
      "metadata": {
        "id": "CvZY6BiCoDV5"
      }
    },
    {
      "cell_type": "code",
      "source": [
        "# Set random seed to 334\n",
        "np.random.seed(334)\n",
        "\n",
        "# Generate 1000 wait times between 0 and 30 mins\n",
        "wait_times = uniform.rvs(min_time, max_time, size=1000)\n",
        "\n",
        "# Create a histogram of simulated times and show plot\n",
        "plt.hist(wait_times)\n",
        "plt.show()"
      ],
      "metadata": {
        "colab": {
          "base_uri": "https://localhost:8080/",
          "height": 265
        },
        "id": "HJhCSCW3oKNO",
        "outputId": "3e61759c-5ac8-481a-ef26-1cf7b46b7269"
      },
      "execution_count": null,
      "outputs": [
        {
          "output_type": "display_data",
          "data": {
            "text/plain": [
              "<Figure size 432x288 with 1 Axes>"
            ],
            "image/png": "[encoded data removed]"
          },
          "metadata": {
            "needs_background": "light"
          }
        }
      ]
    },
    {
      "cell_type": "markdown",
      "source": [
        "Twelfth exercise.\n",
        "\n",
        "Simulations in binomial distribution cases."
      ],
      "metadata": {
        "id": "zJAFu2Xj22wU"
      }
    },
    {
      "cell_type": "code",
      "source": [
        "# Set random seed to 10\n",
        "np.random.seed(10)\n",
        "\n",
        "# Simulate a single deal\n",
        "print(binom.rvs(1, 0.3, size=1))\n",
        "\n",
        "# Simulate 1 week of 3 deals\n",
        "print(binom.rvs(3, 0.3, size=1))\n",
        "\n",
        "# Simulate 52 weeks of 3 deals\n",
        "deals = binom.rvs(3, 0.3, size=52)\n",
        "\n",
        "# Print mean deals won per week\n",
        "print(np.mean(deals))"
      ],
      "metadata": {
        "colab": {
          "base_uri": "https://localhost:8080/"
        },
        "id": "xeVN1R9S3JOU",
        "outputId": "0aaa0ff8-5fc3-4e10-fb67-07fa1ca42f18"
      },
      "execution_count": null,
      "outputs": [
        {
          "output_type": "stream",
          "name": "stdout",
          "text": [
            "[1]\n",
            "[0]\n",
            "0.8461538461538461\n"
          ]
        }
      ]
    },
    {
      "cell_type": "markdown",
      "source": [
        "Thirteenth exercise.\n",
        "\n",
        "Calculating binomial probabilities."
      ],
      "metadata": {
        "id": "N7jkntUb4k2G"
      }
    },
    {
      "cell_type": "code",
      "source": [
        "# Probability of closing 3 out of 3 deals\n",
        "prob_3 = binom.pmf(3, 3, 0.3)\n",
        "\n",
        "print(prob_3)\n",
        "\n",
        "# Probability of closing <= 1 deal out of 3 deals\n",
        "prob_less_than_or_equal_1 = binom.cdf(1, 3, 0.3)\n",
        "\n",
        "print(prob_less_than_or_equal_1)\n",
        "\n",
        "# Probability of closing > 1 deal out of 3 deals\n",
        "prob_greater_than_1 = 1 - binom.cdf(1, 3, 0.3)\n",
        "\n",
        "print(prob_greater_than_1)"
      ],
      "metadata": {
        "colab": {
          "base_uri": "https://localhost:8080/"
        },
        "id": "3DYfzM884rY4",
        "outputId": "49e961e0-be74-4883-c29f-1fafb5cdcf1c"
      },
      "execution_count": null,
      "outputs": [
        {
          "output_type": "stream",
          "name": "stdout",
          "text": [
            "0.026999999999999996\n",
            "0.784\n",
            "0.21599999999999997\n"
          ]
        }
      ]
    },
    {
      "cell_type": "markdown",
      "source": [
        "Fourteenth exercise.\n",
        "\n",
        "Calculating binomial probabilities (still).\n",
        "\n",
        "* Calculate the expected number of sales out of the 3 he works on that Amir will win each week if he maintains his 30% win rate.\n",
        "* Calculate the expected number of sales out of the 3 he works on that he'll win if his win rate drops to 25%.\n",
        "* Calculate the expected number of sales out of the 3 he works on that he'll win if his win rate rises to 35%."
      ],
      "metadata": {
        "id": "G2O66TN5Cq5m"
      }
    },
    {
      "cell_type": "code",
      "source": [
        "# Expected number won with 30% win rate\n",
        "won_30pct = 3 * 0.3\n",
        "print(won_30pct)\n",
        "\n",
        "# Expected number won with 25% win rate\n",
        "won_25pct = 3 * 0.25\n",
        "print(won_25pct)\n",
        "\n",
        "# Expected number won with 35% win rate\n",
        "won_35pct = 3 * 0.35\n",
        "print(won_35pct)"
      ],
      "metadata": {
        "id": "AQunwFnnCxHZ",
        "colab": {
          "base_uri": "https://localhost:8080/"
        },
        "outputId": "b8768b38-1018-4f87-fffe-83b49c53113c"
      },
      "execution_count": null,
      "outputs": [
        {
          "output_type": "stream",
          "name": "stdout",
          "text": [
            "0.8999999999999999\n",
            "0.75\n",
            "1.0499999999999998\n"
          ]
        }
      ]
    },
    {
      "cell_type": "markdown",
      "source": [
        "Fifteenth exercise.\n",
        "\n",
        "Show a histogram of a worker's trades / deals.\n",
        "\n",
        "* The distribution seems to be normal."
      ],
      "metadata": {
        "id": "Hnf2BOB-PORh"
      }
    },
    {
      "cell_type": "code",
      "source": [
        "# Histogram of amount with 10 bins and show plot\n",
        "plt.hist(amir_deals['amount'], bins=10)\n",
        "plt.show()\n",
        "# The code below was the only one accepted by DataCamp. The result was almost the same.\n",
        "amir_deals['amount'].hist(bins=10)\n",
        "plt.show()"
      ],
      "metadata": {
        "colab": {
          "base_uri": "https://localhost:8080/",
          "height": 513
        },
        "id": "mwXYVpZjPOz2",
        "outputId": "bf0c4441-2968-4483-f6b7-a61c22009020"
      },
      "execution_count": null,
      "outputs": [
        {
          "output_type": "display_data",
          "data": {
            "text/plain": [
              "<Figure size 432x288 with 1 Axes>"
            ],
            "image/png": "[encoded data removed]"
          },
          "metadata": {
            "needs_background": "light"
          }
        },
        {
          "output_type": "display_data",
          "data": {
            "text/plain": [
              "<Figure size 432x288 with 1 Axes>"
            ],
            "image/png": "[encoded data removed]"
          },
          "metadata": {
            "needs_background": "light"
          }
        }
      ]
    },
    {
      "cell_type": "markdown",
      "source": [
        "Sixteenth exercise.\n",
        "\n",
        "Since each deal Amir worked on (both won and lost) was different, each was worth a different amount of money. These values are stored in the amount column of amir_deals and follow a normal distribution with a mean of 5000 dollars and a standard deviation of 2000 dollars. As part of his performance metrics, you want to calculate the probability of Amir closing a deal worth various amounts.\n",
        "\n",
        "So, we have here a normal distribution with:\n",
        "* mean = 5000\n",
        "* sd = 2000\n",
        "\n",
        "There are four parts of this exercise:\n",
        "\n",
        "\n",
        "1.   What's the probability of Amir closing a deal worth less than $7500?\n",
        "\n",
        "2.   What's the probability of Amir closing a deal worth more than $1000?\n",
        "\n",
        "3.   What's the probability of Amir closing a deal worth between 3000 and 7000 dollars?\n",
        "\n",
        "4.   What amount will 25% of Amir's sales be less than?\n",
        "\n"
      ],
      "metadata": {
        "id": "twEd_CFJT0Vr"
      }
    },
    {
      "cell_type": "code",
      "source": [
        "# Probability of deal < 7500\n",
        "prob_less_7500 = norm.cdf(7500, 5000, 2000)\n",
        "print(prob_less_7500)\n",
        "\n",
        "# Probability of deal > 1000\n",
        "prob_over_1000 = 1 - norm.cdf(1000, 5000, 2000)\n",
        "print(prob_over_1000)\n",
        "\n",
        "# Probability of deal between 3000 and 7000\n",
        "prob_3000_to_7000 = norm.cdf(7000, 5000, 2000) - norm.cdf(3000, 5000, 2000)\n",
        "print(prob_3000_to_7000)\n",
        "\n",
        "# Calculate amount that 25% of deals will be less than\n",
        "pct_25 = norm.ppf(0.25, 5000, 2000)\n",
        "print(pct_25)\n",
        "\n"
      ],
      "metadata": {
        "colab": {
          "base_uri": "https://localhost:8080/"
        },
        "id": "RtOseWGMUMLj",
        "outputId": "0f4fdb01-b5a7-4ea3-89fb-c7f33e10a685"
      },
      "execution_count": null,
      "outputs": [
        {
          "output_type": "stream",
          "name": "stdout",
          "text": [
            "0.8943502263331446\n",
            "0.9772498680518208\n",
            "0.6826894921370859\n",
            "3651.0204996078364\n"
          ]
        }
      ]
    },
    {
      "cell_type": "markdown",
      "source": [
        "Simulating sales under new market conditions\n",
        "\n",
        "The company's financial analyst is predicting that next quarter, the worth of each sale will increase by 20% and the volatility, or standard deviation, of each sale's worth will increase by 30%. To see what Amir's sales might look like next quarter under these new market conditions, you'll simulate new sales amounts using the normal distribution and store these in the new_sales DataFrame, which has already been created for you."
      ],
      "metadata": {
        "id": "I4xDSEBRV9mk"
      }
    },
    {
      "cell_type": "code",
      "source": [
        "# Calculate new average amount\n",
        "new_mean = 5000*1.2\n",
        "\n",
        "# Calculate new standard deviation\n",
        "new_sd = 2000*1.3\n",
        "\n",
        "# Simulate 36 new sales\n",
        "new_sales = norm.rvs(new_mean, new_sd, size=36)\n",
        "\n",
        "# Create histogram and show\n",
        "plt.hist(new_sales)\n",
        "plt.show()"
      ],
      "metadata": {
        "colab": {
          "base_uri": "https://localhost:8080/",
          "height": 265
        },
        "id": "m1gyQ9osWu-y",
        "outputId": "9f7d99df-2fb8-4a7a-95d6-f42ddc88cfb7"
      },
      "execution_count": null,
      "outputs": [
        {
          "output_type": "display_data",
          "data": {
            "text/plain": [
              "<Figure size 432x288 with 1 Axes>"
            ],
            "image/png": "[encoded data removed]"
          },
          "metadata": {
            "needs_background": "light"
          }
        }
      ]
    },
    {
      "cell_type": "markdown",
      "source": [
        "A simulation from the video involving showing sampling distributions of different number of trials of taking an average of 5 rolls of a 6-sided die."
      ],
      "metadata": {
        "id": "8gITzbbmcfVD"
      }
    },
    {
      "cell_type": "code",
      "source": [
        "# Define die:\n",
        "die=pd.Series([1,2,3,4,5,6])\n",
        "\n",
        "# 10 trials\n",
        "sample_means = []\n",
        "for i in range(10):\n",
        "  sample_means.append(np.mean(die.sample(5, replace=True)))\n",
        "plt.hist(sample_means)\n",
        "plt.show()\n",
        "\n",
        "# 100 trials\n",
        "sample_means = []\n",
        "for i in range(100):\n",
        "  sample_means.append(np.mean(die.sample(5, replace=True)))\n",
        "plt.hist(sample_means)\n",
        "plt.show()\n",
        "\n",
        "# 1000 trials\n",
        "sample_means = []\n",
        "# Added a plot of a sampling distribution of 1000 standard deviations on different die rolls done at the same time.\n",
        "sample_sds = []\n",
        "for i in range(1000):\n",
        "  sample_means.append(np.mean(die.sample(5, replace=True)))\n",
        "  sample_sds.append(np.std(die.sample(5, replace=True)))\n",
        "plt.hist(sample_means)\n",
        "plt.show()\n",
        "plt.hist(sample_sds)\n",
        "plt.show()"
      ],
      "metadata": {
        "colab": {
          "base_uri": "https://localhost:8080/",
          "height": 1000
        },
        "id": "UU30tT3PdIdV",
        "outputId": "fb8f61f4-79bf-4026-eeff-394d64895b15"
      },
      "execution_count": null,
      "outputs": [
        {
          "output_type": "display_data",
          "data": {
            "text/plain": [
              "<Figure size 432x288 with 1 Axes>"
            ],
            "image/png": "[encoded data removed]"
          },
          "metadata": {
            "needs_background": "light"
          }
        },
        {
          "output_type": "display_data",
          "data": {
            "text/plain": [
              "<Figure size 432x288 with 1 Axes>"
            ],
            "image/png": "[encoded data removed]"
          },
          "metadata": {
            "needs_background": "light"
          }
        },
        {
          "output_type": "display_data",
          "data": {
            "text/plain": [
              "<Figure size 432x288 with 1 Axes>"
            ],
            "image/png": "[encoded data removed]"
          },
          "metadata": {
            "needs_background": "light"
          }
        },
        {
          "output_type": "display_data",
          "data": {
            "text/plain": [
              "<Figure size 432x288 with 1 Axes>"
            ],
            "image/png": "[encoded data removed]"
          },
          "metadata": {
            "needs_background": "light"
          }
        }
      ]
    },
    {
      "cell_type": "code",
      "source": [
        "# Calculating the mean from a distribution of proportions of drawing a particular name out of a list of names.\n",
        "# Variable definitions:\n",
        "sales_team = pd.Series(['Amir', 'Brian', 'Claire', 'Damian'])\n",
        "sample_proportions = []\n",
        "\n",
        "# Loop:\n",
        "for i in range(100):\n",
        "  st_sample = sales_team.sample(100, replace = True)\n",
        "  sample_proportions.append(st_sample[st_sample=='Amir'].count()/100)\n",
        "\n",
        "# Plot:\n",
        "plt.hist(sample_proportions)\n",
        "plt.show()"
      ],
      "metadata": {
        "colab": {
          "base_uri": "https://localhost:8080/",
          "height": 265
        },
        "id": "j3jx9OqniK9t",
        "outputId": "ead0345d-36ef-485f-a737-8286834099fc"
      },
      "execution_count": null,
      "outputs": [
        {
          "output_type": "display_data",
          "data": {
            "text/plain": [
              "<Figure size 432x288 with 1 Axes>"
            ],
            "image/png": "[encoded data removed]"
          },
          "metadata": {
            "needs_background": "light"
          }
        }
      ]
    },
    {
      "cell_type": "markdown",
      "source": [
        "Seventeenth exercise.\n",
        "\n",
        "In this one, we will focus on the sample mean and see the central limit theorem in action while examining the num_users column of amir_deals more closely, which contains the number of people who intend to use the product Amir is selling."
      ],
      "metadata": {
        "id": "nQLzUJvhKAz4"
      }
    },
    {
      "cell_type": "code",
      "source": [
        "# Create a histogram of num_users and show\n",
        "plt.hist(amir_deals['num_users'])\n",
        "plt.show()\n",
        "\n",
        "# Set seed to 104\n",
        "np.random.seed(104)\n",
        "\n",
        "# Sample 20 num_users with replacement from amir_deals\n",
        "samp_20 = amir_deals['num_users'].sample(20, replace=True)\n",
        "\n",
        "# Take mean of samp_20\n",
        "print(np.mean(samp_20))\n",
        "\n",
        "sample_means = []\n",
        "# Loop 100 times\n",
        "for i in range(100):\n",
        "  # Take sample of 20 num_users\n",
        "  samp_20 = amir_deals['num_users'].sample(20, replace=True)\n",
        "  # Calculate mean of samp_20\n",
        "  samp_20_mean = np.mean(samp_20)\n",
        "  # Append samp_20_mean to sample_means\n",
        "  sample_means.append(samp_20_mean)\n",
        "\n",
        "print(sample_means)\n",
        "\n",
        "# Convert to Series and plot histogram\n",
        "sample_means_series = pd.Series(sample_means)\n",
        "sample_means_series.hist()\n",
        "# Show plot\n",
        "plt.show()"
      ],
      "metadata": {
        "colab": {
          "base_uri": "https://localhost:8080/",
          "height": 568
        },
        "id": "1X7hAERKKG4y",
        "outputId": "ff1e4845-a55a-4382-9e0e-e48f85acef05"
      },
      "execution_count": null,
      "outputs": [
        {
          "output_type": "display_data",
          "data": {
            "text/plain": [
              "<Figure size 432x288 with 1 Axes>"
            ],
            "image/png": "[encoded data removed]"
          },
          "metadata": {
            "needs_background": "light"
          }
        },
        {
          "output_type": "stream",
          "name": "stdout",
          "text": [
            "32.0\n",
            "[31.35, 45.05, 33.55, 38.15, 50.85, 31.85, 34.65, 36.25, 38.9, 44.05, 35.45, 37.6, 37.95, 28.85, 33.3, 31.65, 45.5, 43.2, 24.4, 41.05, 37.2, 39.3, 29.45, 33.55, 45.3, 45.1, 30.95, 36.25, 37.65, 42.55, 34.55, 41.1, 36.9, 42.45, 38.45, 45.9, 42.7, 38.4, 32.55, 30.25, 38.0, 38.75, 49.3, 39.55, 49.05, 42.05, 41.0, 40.6, 58.25, 34.55, 51.2, 34.15, 36.95, 42.45, 41.85, 33.2, 36.15, 37.55, 34.2, 29.75, 42.35, 43.75, 29.0, 32.05, 31.65, 44.6, 30.85, 29.6, 37.7, 33.1, 36.35, 40.65, 45.7, 33.8, 40.1, 39.9, 33.5, 32.65, 32.85, 42.85, 35.4, 31.7, 32.0, 33.85, 36.6, 44.35, 39.9, 37.0, 37.3, 42.5, 38.35, 42.8, 44.55, 30.3, 50.45, 42.35, 40.65, 29.85, 39.3, 33.1]\n"
          ]
        },
        {
          "output_type": "display_data",
          "data": {
            "text/plain": [
              "<Figure size 432x288 with 1 Axes>"
            ],
            "image/png": "[encoded data removed]"
          },
          "metadata": {
            "needs_background": "light"
          }
        }
      ]
    },
    {
      "cell_type": "markdown",
      "source": [
        "Eighteenth exercise.\n",
        "\n",
        "* Set the random seed to 321.\n",
        "* Take 30 samples (with replacement) of size 20 from *all_deals['num_users']* and take the mean of each sample. Store the sample means in *sample_means*.\n",
        "* Print the mean of *sample_means*.\n",
        "* Print the mean of the *num_users* column of *amir_deals*.\n",
        "\n",
        "I do not have the all_deals DF, so I will probably have to simulate it somehow 😀\n",
        "\n",
        "PS. What I did was to replace all_deals DF with amir_deals DF 😆"
      ],
      "metadata": {
        "id": "Ai13Zl5nMYY_"
      }
    },
    {
      "cell_type": "code",
      "source": [
        "# Set seed to 321\n",
        "np.random.seed(321)\n",
        "\n",
        "sample_means = []\n",
        "# Loop 30 times to take 30 means\n",
        "for i in range(30):\n",
        "  # Take sample of size 20 from num_users col of all_deals with replacement\n",
        "  cur_sample = amir_deals['num_users'].sample(20, replace=True)\n",
        "  # Take mean of cur_sample\n",
        "  cur_mean = np.mean(cur_sample)\n",
        "  # Append cur_mean to sample_means\n",
        "  sample_means.append(cur_mean)\n",
        "\n",
        "# Print mean of sample_means\n",
        "print(np.mean(sample_means))\n",
        "\n",
        "# Print mean of num_users in amir_deals\n",
        "print(np.mean(amir_deals['num_users']))"
      ],
      "metadata": {
        "colab": {
          "base_uri": "https://localhost:8080/"
        },
        "id": "ib4WxpESNrJA",
        "outputId": "4d2f566f-4513-4df8-8256-d01cfecc37de"
      },
      "execution_count": null,
      "outputs": [
        {
          "output_type": "stream",
          "name": "stdout",
          "text": [
            "38.821666666666665\n",
            "37.651685393258425\n"
          ]
        }
      ]
    },
    {
      "cell_type": "markdown",
      "source": [
        "Nineteenth exercise.\n",
        "\n",
        "Tracking lead responses\n",
        "\n",
        "Your company uses sales software to keep track of new sales leads. It organizes them into a queue so that anyone can follow up on one when they have a bit of free time. Since the number of lead responses is a countable outcome over a period of time, this scenario corresponds to a Poisson distribution. On average, Amir responds to 4 leads each day. In this exercise, you'll calculate probabilities of Amir responding to different numbers of leads."
      ],
      "metadata": {
        "id": "cEIhOJamgQ3D"
      }
    },
    {
      "cell_type": "code",
      "source": [
        "# Probability of 5 responses\n",
        "prob_5 = poisson.pmf(5, 4)\n",
        "\n",
        "print(prob_5)\n",
        "\n",
        "# Probability of 5 responses\n",
        "prob_coworker = poisson.pmf(5, 5.5)\n",
        "\n",
        "print(prob_coworker)\n",
        "\n",
        "# Probability of 2 or fewer responses\n",
        "prob_2_or_less = poisson.cdf(2, 4)\n",
        "\n",
        "print(prob_2_or_less)\n",
        "\n",
        "# Probability of > 10 responses\n",
        "prob_over_10 = 1 - poisson.cdf(10, 4)\n",
        "\n",
        "print(prob_over_10)"
      ],
      "metadata": {
        "colab": {
          "base_uri": "https://localhost:8080/"
        },
        "id": "x-YqjhdvgWGt",
        "outputId": "88e29b2a-94e2-4d25-9944-11fc2c406afe"
      },
      "execution_count": null,
      "outputs": [
        {
          "output_type": "stream",
          "name": "stdout",
          "text": [
            "0.1562934518505317\n",
            "0.17140068409793663\n",
            "0.23810330555354436\n",
            "0.0028397661205137315\n"
          ]
        }
      ]
    },
    {
      "cell_type": "markdown",
      "source": [
        "Twentieth exercise.\n",
        "\n",
        "Modeling time between leads\n",
        "\n",
        "To further evaluate Amir's performance, you want to know how much time it takes him to respond to a lead after he opens it. On average, it takes 2.5 hours for him to respond. In this exercise, you'll calculate probabilities of different amounts of time passing between Amir receiving a lead and sending a response.\n",
        "\n",
        "* Import expon from scipy.stats. What's the probability it takes Amir less than an hour to respond to a lead?\n",
        "* What's the probability it takes Amir more than 4 hours to respond to a lead?\n",
        "* What's the probability it takes Amir 3-4 hours to respond to a lead?"
      ],
      "metadata": {
        "id": "wwRb5pj3eLhX"
      }
    },
    {
      "cell_type": "code",
      "source": [
        "# Print probability response takes < 1 hour\n",
        "print(expon.cdf(1, scale=2.5))\n",
        "\n",
        "# Print probability response takes > 4 hours\n",
        "print(1-expon.cdf(4, scale=2.5))\n",
        "\n",
        "# Print probability response takes 3-4 hours\n",
        "print(expon.cdf(4, scale=2.5) - expon.cdf(3, scale=2.5))"
      ],
      "metadata": {
        "colab": {
          "base_uri": "https://localhost:8080/"
        },
        "id": "p5PwyyUEeVdS",
        "outputId": "ff0b7515-0d16-46da-8d3d-539e5eb6681e"
      },
      "execution_count": null,
      "outputs": [
        {
          "output_type": "stream",
          "name": "stdout",
          "text": [
            "0.3296799539643607\n",
            "0.20189651799465536\n",
            "0.09929769391754684\n"
          ]
        }
      ]
    },
    {
      "cell_type": "markdown",
      "source": [
        "**Uwaga!**\n",
        "\n",
        "Muszę **koniecznie** sprawdzić dlaczego w tym przykładzie dla czasu między events wynoszącego 2.5 scale = 2.5, a nie jak w przykładzie z wykładu, gdzie dla czasu pomiędzy events równego 2, scale = 0.5.\n",
        "\n",
        "Jest tu jakieś discrepancy."
      ],
      "metadata": {
        "id": "OSFctQqNeiQ8"
      }
    },
    {
      "cell_type": "markdown",
      "source": [
        "Twenty-first exercise.\n",
        "\n",
        "In this chapter, you'll be working with a dataset world_happiness containing results from the 2019 World Happiness Report. The report scores various countries based on how happy people in that country are. It also ranks each country on various societal aspects such as social support, freedom, corruption, and others. The dataset also includes the GDP per capita and life expectancy for each country.\n",
        "\n",
        "In this exercise, you'll examine the relationship between a country's life expectancy (life_exp) and happiness score (happiness_score) both visually and quantitatively. seaborn as sns, matplotlib.pyplot as plt, and pandas as pd are loaded and world_happiness is available.\n",
        "\n",
        "* Create a scatterplot of happiness_score vs. life_exp (without a trendline) using seaborn. Show the plot.\n",
        "* Create a scatterplot of happiness_score vs. life_exp with a linear trendline using seaborn, setting ci to None. Show the plot.\n",
        "* Calculate the correlation between life_exp and happiness_score. Save this as cor."
      ],
      "metadata": {
        "id": "BHoIHy4IfXG_"
      }
    },
    {
      "cell_type": "code",
      "source": [
        "# Create a scatterplot of happiness_score vs. life_exp and show\n",
        "sns.scatterplot(x='life_exp', y='happiness_score', data=world_happiness)\n",
        "plt.show()\n",
        "\n",
        "# Create scatterplot of happiness_score vs life_exp with trendline\n",
        "sns.lmplot(x='life_exp', y='happiness_score', data=world_happiness, ci=None)\n",
        "plt.show()\n",
        "\n",
        "# Correlation between life_exp and happiness_score\n",
        "cor = world_happiness['happiness_score'].corr(world_happiness['life_exp'])\n",
        "print(cor)"
      ],
      "metadata": {
        "colab": {
          "base_uri": "https://localhost:8080/",
          "height": 650
        },
        "id": "nrWWFPZwfcXp",
        "outputId": "d9af6f56-6a8f-494a-e18b-58688fb50d78"
      },
      "execution_count": null,
      "outputs": [
        {
          "output_type": "display_data",
          "data": {
            "text/plain": [
              "<Figure size 432x288 with 1 Axes>"
            ],
            "image/png": "[encoded data removed]"
          },
          "metadata": {
            "needs_background": "light"
          }
        },
        {
          "output_type": "display_data",
          "data": {
            "text/plain": [
              "<Figure size 360x360 with 1 Axes>"
            ],
            "image/png": "[encoded data removed]"
          },
          "metadata": {
            "needs_background": "light"
          }
        },
        {
          "output_type": "stream",
          "name": "stdout",
          "text": [
            "0.7802249053272062\n"
          ]
        }
      ]
    },
    {
      "cell_type": "markdown",
      "source": [
        "Twenty-second exercise.\n",
        "\n",
        "What can't correlation measure?\n",
        "\n",
        "While the correlation coefficient is a convenient way to quantify the strength of a relationship between two variables, it's far from perfect. In this exercise, you'll explore one of the caveats of the correlation coefficient by examining the relationship between a country's GDP per capita (gdp_per_cap) and happiness score.\n",
        "\n",
        "pandas as pd, matplotlib.pyplot as plt, and seaborn as sns are imported, and world_happiness is loaded.\n",
        "\n",
        "* Create a seaborn scatterplot (without a trendline) showing the relationship between gdp_per_cap (on the x-axis) and life_exp (on the y-axis). Show the plot\n",
        "* Calculate the correlation between gdp_per_cap and life_exp and store as cor."
      ],
      "metadata": {
        "id": "q_NTFChZrZ87"
      }
    },
    {
      "cell_type": "code",
      "source": [
        "# Scatterplot of gdp_per_cap and life_exp\n",
        "sns.scatterplot(x='gdp_per_cap', y='life_exp', data=world_happiness)\n",
        "\n",
        "# Show plot\n",
        "plt.show()\n",
        "\n",
        "# Correlation between gdp_per_cap and life_exp\n",
        "cor = world_happiness['gdp_per_cap'].corr(world_happiness['life_exp'])\n",
        "\n",
        "print(cor)"
      ],
      "metadata": {
        "id": "7raufME7r3bz",
        "colab": {
          "base_uri": "https://localhost:8080/",
          "height": 297
        },
        "outputId": "97df92fa-fd71-496e-b6b6-6bc49cb45b15"
      },
      "execution_count": null,
      "outputs": [
        {
          "output_type": "display_data",
          "data": {
            "text/plain": [
              "<Figure size 432x288 with 1 Axes>"
            ],
            "image/png": "[encoded data removed]"
          },
          "metadata": {
            "needs_background": "light"
          }
        },
        {
          "output_type": "stream",
          "name": "stdout",
          "text": [
            "0.7019547642148012\n"
          ]
        }
      ]
    },
    {
      "cell_type": "markdown",
      "source": [
        "Twenty-third exercise.\n",
        "\n",
        "Transforming variables\n",
        "\n",
        "When variables have skewed distributions, they often require a transformation in order to form a linear relationship with another variable so that correlation can be computed. In this exercise, you'll perform a transformation yourself.\n",
        "\n",
        "pandas as pd, numpy as np, matplotlib.pyplot as plt, and seaborn as sns are imported, and world_happiness is loaded.\n",
        "\n",
        "* Create a scatterplot of happiness_score versus gdp_per_cap and calculate the correlation between them.\n",
        "* Add a new column to world_happiness called log_gdp_per_cap that contains the log of gdp_per_cap.\n",
        "* Create a seaborn scatterplot of log_gdp_per_cap and happiness_score and calculate the correlation between them."
      ],
      "metadata": {
        "id": "h60h3ZoIh1e4"
      }
    },
    {
      "cell_type": "code",
      "source": [
        "# Scatterplot of happiness_score vs. gdp_per_cap\n",
        "sns.scatterplot(x='gdp_per_cap', y='happiness_score', data=world_happiness)\n",
        "plt.show()\n",
        "\n",
        "# Calculate correlation\n",
        "cor = world_happiness['gdp_per_cap'].corr(world_happiness['happiness_score'])\n",
        "print(cor)\n",
        "\n",
        "# Create log_gdp_per_cap column\n",
        "world_happiness['log_gdp_per_cap'] = np.log(world_happiness['gdp_per_cap'])\n",
        "\n",
        "# Scatterplot of log_gdp_per_cap and happiness_score\n",
        "sns.scatterplot(y='happiness_score', x='log_gdp_per_cap', data=world_happiness)\n",
        "plt.show()\n",
        "\n",
        "# Calculate correlation\n",
        "cor = world_happiness['log_gdp_per_cap'].corr(world_happiness['happiness_score'])\n",
        "print(cor)"
      ],
      "metadata": {
        "colab": {
          "base_uri": "https://localhost:8080/",
          "height": 580
        },
        "id": "QN18n-oViLnc",
        "outputId": "4afb6a39-5bcd-4944-9fc1-702afbefa43f"
      },
      "execution_count": null,
      "outputs": [
        {
          "output_type": "display_data",
          "data": {
            "text/plain": [
              "<Figure size 432x288 with 1 Axes>"
            ],
            "image/png": "[encoded data removed]"
          },
          "metadata": {
            "needs_background": "light"
          }
        },
        {
          "output_type": "stream",
          "name": "stdout",
          "text": [
            "0.727973301222298\n"
          ]
        },
        {
          "output_type": "display_data",
          "data": {
            "text/plain": [
              "<Figure size 432x288 with 1 Axes>"
            ],
            "image/png": "[encoded data removed]"
          },
          "metadata": {
            "needs_background": "light"
          }
        },
        {
          "output_type": "stream",
          "name": "stdout",
          "text": [
            "0.8043146004918288\n"
          ]
        }
      ]
    }
  ]
}